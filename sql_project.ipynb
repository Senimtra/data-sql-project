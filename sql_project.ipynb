{
  "cells": [
    {
      "cell_type": "markdown",
      "metadata": {},
      "source": [
        "# SQL Project\n",
        "\n",
        "### Data Scraping"
      ]
    },
    {
      "cell_type": "code",
      "execution_count": null,
      "metadata": {
        "id": "CHQ8IJLpgBsH"
      },
      "outputs": [],
      "source": [
        "# Select schools\n",
        "\n",
        "schools = {   \n",
        "'ironhack' : 10828,\n",
        "'app-academy' : 10525,\n",
        "'springboard' : 11035,\n",
        "'practicum-coding-bootcamps' : 11225,\n",
        "'brainstation' : 10571,\n",
        "'udacity' : 11118,\n",
        "'general-assembly' : 10761 }\n",
        "\n",
        "\n",
        "# Imports\n",
        "\n",
        "import re\n",
        "import pandas as pd\n",
        "import numpy as np\n",
        "import requests\n",
        "\n",
        "import seaborn as sns\n",
        "import matplotlib.pyplot as plt\n",
        "\n",
        "import mysql.connector\n",
        "import getpass\n",
        "\n",
        "from pandas import json_normalize\n",
        "\n",
        "\n",
        "# Set pandas options\n",
        "\n",
        "pd.options.display.max_columns = None\n",
        "pd.options.display.max_rows = None\n",
        "# pd.options.display.max_colwidth = None\n",
        "\n",
        "\n",
        "# Get selected schools comments\n",
        "\n",
        "def get_comments_school(school):\n",
        "    TAG_RE = re.compile(r'<[^>]+>')\n",
        "\n",
        "    # Define url to make api calls\n",
        "    url = \"https://www.switchup.org/chimera/v1/school-review-list?mainTemplate=school-review-list&path=%2Fbootcamps%2F\" + school + \"&isDataTarget=false&page=3&perPage=10000&simpleHtml=true&truncationLength=250\"\n",
        "\n",
        "    # Make get-request and convert answer to json\n",
        "    data = requests.get(url).json()\n",
        "\n",
        "    # Convert json to data frame\n",
        "    reviews =  pd.DataFrame(data['content']['reviews'])\n",
        "    \n",
        "    # Apply regex and remove tags\n",
        "    def remove_tags(x): return TAG_RE.sub('', x)\n",
        "    reviews['review_body'] = reviews['body'].apply(remove_tags)\n",
        "    reviews['school'] = school\n",
        "    return reviews"
      ]
    },
    {
      "cell_type": "code",
      "execution_count": null,
      "metadata": {
        "colab": {
          "base_uri": "https://localhost:8080/"
        },
        "id": "cxSFN100h6Ej",
        "outputId": "04608d5e-dac7-47a5-9a5c-e3c5945ce09b"
      },
      "outputs": [],
      "source": [
        "# Set up comments data frame\n",
        "\n",
        "comments = []\n",
        "\n",
        "[(comments.append(get_comments_school(school)), print(school)) for school in schools.keys()]\n",
        "\n",
        "comments = pd.concat(comments)"
      ]
    },
    {
      "cell_type": "code",
      "execution_count": null,
      "metadata": {
        "colab": {
          "base_uri": "https://localhost:8080/"
        },
        "id": "V_SXOtPxiNNY",
        "outputId": "c175c95b-03a8-4c5e-dc84-4a48e1f70125"
      },
      "outputs": [],
      "source": [
        "# Get selected schools information\n",
        "\n",
        "def get_school_info(school, school_id):\n",
        "    \n",
        "    # Define url to make api calls\n",
        "    url = 'https://www.switchup.org/chimera/v1/bootcamp-data?mainTemplate=bootcamp-data%2Fdescription&path=%2Fbootcamps%2F'+ str(school) + '&isDataTarget=false&bootcampId='+ str(school_id) + '&logoTag=logo&truncationLength=250&readMoreOmission=...&readMoreText=Read%20More&readLessText=Read%20Less'\n",
        "\n",
        "    # Make get-request and convert answer to json\n",
        "    data = requests.get(url).json()\n",
        "\n",
        "    # Set up 'courses' data frame\n",
        "    courses = data['content']['courses']\n",
        "    courses_df = pd.DataFrame(courses, columns= ['courses'])\n",
        "\n",
        "    # Set up 'locations' data frame\n",
        "    locations = data['content']['locations']\n",
        "    locations_df = json_normalize(locations)\n",
        "\n",
        "    # Set up 'badges' data frame\n",
        "    badges_df = pd.DataFrame(data['content']['meritBadges'])\n",
        "\n",
        "    # Set up 'schools' data frame\n",
        "    website = data['content']['webaddr']\n",
        "    description = data['content']['description']\n",
        "    logoUrl = data['content']['logoUrl']\n",
        "    school_df = pd.DataFrame([website,description,logoUrl]).T\n",
        "    school_df.columns =  ['website','description','LogoUrl']\n",
        "\n",
        "    # Set schools\n",
        "    locations_df['school'] = school\n",
        "    courses_df['school'] = school\n",
        "    badges_df['school'] = school\n",
        "    school_df['school'] = school\n",
        "\n",
        "    # Set school ids\n",
        "    locations_df['school_id'] = school_id\n",
        "    courses_df['school_id'] = school_id\n",
        "    badges_df['school_id'] = school_id\n",
        "    school_df['school_id'] = school_id\n",
        "\n",
        "    # Return data frames\n",
        "    return locations_df, courses_df, badges_df, school_df\n",
        "\n",
        "\n",
        "# Create container lists\n",
        "\n",
        "locations_list = []\n",
        "courses_list = []\n",
        "badges_list = []\n",
        "schools_list = []\n",
        "\n",
        "\n",
        "# Populate container lists\n",
        "\n",
        "for school, id in schools.items():\n",
        "    print(school)\n",
        "    a, b, c, d = get_school_info(school, id)\n",
        "    locations_list.append(a)\n",
        "    courses_list.append(b)\n",
        "    badges_list.append(c)\n",
        "    schools_list.append(d)"
      ]
    },
    {
      "cell_type": "code",
      "execution_count": null,
      "metadata": {
        "colab": {
          "base_uri": "https://localhost:8080/",
          "height": 488
        },
        "id": "sH4qeK_8iSzr",
        "outputId": "59b6d177-009b-4711-fa00-cfef1f5bab07"
      },
      "outputs": [],
      "source": [
        "# Create locations data frame\n",
        "\n",
        "locations = pd.concat(locations_list)\n",
        "\n",
        "locations.sample()"
      ]
    },
    {
      "cell_type": "code",
      "execution_count": null,
      "metadata": {
        "colab": {
          "base_uri": "https://localhost:8080/",
          "height": 363
        },
        "id": "eGw9AuxjiTaG",
        "outputId": "4c8ec6dd-83c3-4e9a-9495-c3c4d231f347"
      },
      "outputs": [],
      "source": [
        "# Create courses data frame\n",
        "\n",
        "courses = pd.concat(courses_list)\n",
        "\n",
        "courses.sample()"
      ]
    },
    {
      "cell_type": "code",
      "execution_count": null,
      "metadata": {
        "colab": {
          "base_uri": "https://localhost:8080/",
          "height": 206
        },
        "id": "j---orWLiWs1",
        "outputId": "57df0d4a-b81c-4132-e4ac-1f3f5f97ec61"
      },
      "outputs": [],
      "source": [
        "# Create badges data frame\n",
        "\n",
        "badges = pd.concat(badges_list)\n",
        "\n",
        "badges.sample()"
      ]
    },
    {
      "cell_type": "code",
      "execution_count": null,
      "metadata": {
        "colab": {
          "base_uri": "https://localhost:8080/",
          "height": 143
        },
        "id": "kWLmzVpmiZD2",
        "outputId": "2c9419aa-c927-43d6-b634-c116fc79758a"
      },
      "outputs": [],
      "source": [
        "# Create schools data frame\n",
        "\n",
        "schools = pd.concat(schools_list)\n",
        "\n",
        "schools.sample()"
      ]
    },
    {
      "cell_type": "markdown",
      "metadata": {},
      "source": [
        "### Data Analysis"
      ]
    },
    {
      "cell_type": "code",
      "execution_count": null,
      "metadata": {},
      "outputs": [],
      "source": [
        "### IRONHACK PERFORMANCE ###\n",
        "\n",
        "# Copy comments data frame\n",
        "iron_perf = comments.copy()\n",
        "\n",
        "# Select all ironhack entries\n",
        "iron_perf = iron_perf[iron_perf['school'] == 'ironhack'][['graduatingYear', 'overallScore', 'overall', 'curriculum', 'jobSupport']]\n",
        "\n",
        "# Change column data types\n",
        "iron_perf['graduatingYear'] = iron_perf['graduatingYear'].astype('int')\n",
        "iron_perf['overallScore'] = iron_perf['overallScore'].astype('float')\n",
        "iron_perf['overall'] = iron_perf['overall'].astype('float')\n",
        "iron_perf['curriculum'] = iron_perf['curriculum'].astype('float')\n",
        "iron_perf['jobSupport'] = iron_perf['jobSupport'].astype('float')\n",
        "\n",
        "# Sum of ratings per year\n",
        "iron_weight = list(iron_perf.groupby('graduatingYear')['jobSupport'].count())\n",
        "\n",
        "# Calculate means (grouped by year)\n",
        "iron_perf = iron_perf.groupby('graduatingYear').mean().reset_index()\n",
        "iron_perf = iron_perf[iron_perf['graduatingYear'] > 2011]\n",
        "\n",
        "# Calculate weights\n",
        "iron_perf['ratings'] = iron_weight[1:]\n",
        "iron_perf['weight'] = (iron_perf['ratings'] * 100 / iron_perf['ratings'].sum()).round(2)\n",
        "\n",
        "# Ironhack performance data frame\n",
        "display(iron_perf)\n",
        "\n",
        "# Ironhack performance plot\n",
        "plt.figure(figsize = (9, 5))\n",
        "plt.plot(iron_perf['graduatingYear'], iron_perf['overallScore'], label = 'Average score')\n",
        "plt.plot(iron_perf['graduatingYear'], iron_perf['overall'], label = 'General score')\n",
        "plt.plot(iron_perf['graduatingYear'], iron_perf['curriculum'], label = 'Curriculum score')\n",
        "plt.plot(iron_perf['graduatingYear'], iron_perf['jobSupport'], label = 'Job-support score')\n",
        "plt.title('Ironhack performance since 2014', fontsize = 20)\n",
        "plt.xlabel('Years', fontsize = 14)\n",
        "plt.ylabel('Rating', fontsize = 14)\n",
        "plt.legend(loc = 'lower left', fontsize = 12)\n",
        "# plt.ylim(ymin = 3.75, ymax = 5.25)\n",
        "plt.show()"
      ]
    },
    {
      "cell_type": "code",
      "execution_count": null,
      "metadata": {},
      "outputs": [],
      "source": [
        "### IRONHACK AMOUNT OF REVIEWS ###\n",
        "\n",
        "plt.figure(figsize = (9, 5))\n",
        "plt.plot(iron_perf['graduatingYear'], iron_perf['ratings'], label = 'Amount of reviews')\n",
        "plt.title('Ironhack amount of reviews', fontsize = 20)\n",
        "plt.xlabel('Years', fontsize = 14)\n",
        "plt.ylabel('Reviews', fontsize = 14)\n",
        "plt.show()"
      ]
    },
    {
      "cell_type": "code",
      "execution_count": null,
      "metadata": {},
      "outputs": [],
      "source": [
        "### COMPETITORS AMOUNT OF REVIEWS ###\n",
        "\n",
        "# Copy comments data frame\n",
        "amount_rev = comments.copy()\n",
        "\n",
        "# Select columns\n",
        "amount_rev = amount_rev[['id', 'graduatingYear', 'school']]\n",
        "\n",
        "# Filter rows (reviews since 2014)\n",
        "amount_rev = amount_rev[amount_rev['graduatingYear'] >= 2014]\n",
        "\n",
        "# Group by schools/years => count reviews\n",
        "amount_rev = amount_rev.groupby(['school', 'graduatingYear'])['id'].count().reset_index()\n",
        "\n",
        "# Set up schools/ratings per year - data series\n",
        "amount_ironhack = amount_rev[amount_rev['school'] == 'ironhack']\n",
        "amount_practicum = amount_rev[amount_rev['school'] == 'practicum-coding-bootcamps']\n",
        "amount_brainstation = amount_rev[amount_rev['school'] == 'brainstation']\n",
        "amount_udacity = amount_rev[amount_rev['school'] == 'udacity']\n",
        "amount_gen_assem = amount_rev[amount_rev['school'] == 'general-assembly']\n",
        "\n",
        "# Schools 'amount of reviews per year' plot\n",
        "plt.figure(figsize = (9, 5))\n",
        "plt.plot(amount_ironhack['graduatingYear'], amount_ironhack['id'], label = 'Ironhack')\n",
        "plt.plot(amount_practicum['graduatingYear'], amount_practicum['id'], label = 'Practicum')\n",
        "plt.plot(amount_brainstation['graduatingYear'], amount_brainstation['id'], label = 'Brainstation')\n",
        "plt.plot(amount_udacity['graduatingYear'], amount_udacity['id'], label = 'Udacity')\n",
        "plt.plot(amount_gen_assem['graduatingYear'], amount_gen_assem['id'], label = 'General Assembly')\n",
        "plt.title('Amount of reviews since 2014', fontsize = 20)\n",
        "plt.xlabel('Years', fontsize = 14)\n",
        "plt.ylabel('Reviews', fontsize = 14)\n",
        "plt.legend(loc = 'upper left', fontsize = 12)\n",
        "plt.show()"
      ]
    },
    {
      "cell_type": "code",
      "execution_count": null,
      "metadata": {},
      "outputs": [],
      "source": [
        "### COMPETITOR PERFORMANCE ###\n",
        "\n",
        "# Copy comments data frame\n",
        "comp_perf = comments.copy()\n",
        "\n",
        "# Change overall score data type\n",
        "comp_perf['overall'] = comp_perf['overall'].astype('float')\n",
        "\n",
        "# Set up school data frames (scores)\n",
        "comp_ironhack_df = comp_perf[comp_perf['school'] == 'ironhack'].groupby(['school', 'graduatingYear'])['overall'].agg('mean').reset_index()\n",
        "comp_practicum_df = comp_perf[comp_perf['school'].str.contains('pract')].groupby(['school', 'graduatingYear'])['overall'].agg('mean').reset_index()\n",
        "comp_brainst_df = comp_perf[comp_perf['school'] == 'brainstation'].groupby(['school', 'graduatingYear'])['overall'].agg('mean').reset_index()\n",
        "comp_udacity_df = comp_perf[comp_perf['school'] == 'udacity'].groupby(['school', 'graduatingYear'])['overall'].agg('mean').reset_index()\n",
        "comp_assembly_df = comp_perf[comp_perf['school'].str.contains('assem')].groupby(['school', 'graduatingYear'])['overall'].agg('mean').reset_index()\n",
        "\n",
        "# Competitors performance plot\n",
        "plt.figure(figsize = (9, 5))\n",
        "plt.plot(comp_ironhack_df['graduatingYear'], comp_ironhack_df['overall'], label = 'Ironhack')\n",
        "plt.plot(comp_practicum_df['graduatingYear'], comp_practicum_df['overall'], label = 'Practicum')\n",
        "plt.plot(comp_brainst_df['graduatingYear'], comp_brainst_df['overall'], label = 'Brainstation')\n",
        "plt.plot(comp_udacity_df['graduatingYear'], comp_udacity_df['overall'], label = 'Udacity')\n",
        "plt.plot(comp_assembly_df['graduatingYear'], comp_assembly_df['overall'], label = 'General Assembly')\n",
        "plt.title('Competitor performance since 2011', fontsize = 20)\n",
        "plt.xlabel('Years', fontsize = 14)\n",
        "plt.ylabel('Rating', fontsize = 14)\n",
        "plt.legend(loc = 'lower left', fontsize = 12)\n",
        "plt.ylim(ymin = 3.25, ymax = 5.5)\n",
        "plt.show()"
      ]
    },
    {
      "cell_type": "code",
      "execution_count": null,
      "metadata": {},
      "outputs": [],
      "source": [
        "### IRONHACK COMMENTS/RATINGS - HEATMAP ###\n",
        "\n",
        "# Copy comments data frame\n",
        "comm_heat = comments.copy()\n",
        "\n",
        "# Filter school (ironhack)\n",
        "comm_heat = comm_heat[comm_heat['school'] == 'ironhack']\n",
        "\n",
        "# Select columns\n",
        "comm_heat = comm_heat[['anonymous', 'graduatingYear', 'isAlumni', 'overallScore', 'overall', 'curriculum', 'jobSupport']]\n",
        "\n",
        "# Convert column data types\n",
        "comm_heat['graduatingYear'] = comm_heat['graduatingYear'].astype(int)\n",
        "comm_heat['isAlumni'] = comm_heat['isAlumni'].astype(bool)\n",
        "comm_heat['overallScore'] = comm_heat['overallScore'].astype(float)\n",
        "comm_heat['overall'] = comm_heat['overall'].astype(float)\n",
        "comm_heat['curriculum'] = comm_heat['curriculum'].astype(float)\n",
        "comm_heat['jobSupport'] = comm_heat['jobSupport'].astype(float)\n",
        "\n",
        "# Display correlation table\n",
        "display(comm_heat.corr())\n",
        "\n",
        "# Comments/Ratings correlation matrix\n",
        "comm_heat_corr = comm_heat[['anonymous', 'graduatingYear', 'isAlumni', 'overallScore', 'overall', 'curriculum', 'jobSupport']].corr()\n",
        "\n",
        "# Plot heatmap triangle\n",
        "sns.heatmap(comm_heat_corr.iloc[1:, :-1], mask = np.triu(comm_heat_corr)[1:, :-1], annot = True, cmap = 'BuPu')\n",
        "plt.show()\n",
        "\n",
        "# Plot heatmap\n",
        "sns.heatmap(comm_heat_corr, annot = True, cmap = 'BuPu')\n",
        "plt.show()"
      ]
    },
    {
      "cell_type": "code",
      "execution_count": null,
      "metadata": {},
      "outputs": [],
      "source": [
        "### SENSITIVITY ANALYSIS ###\n",
        "\n",
        "# Copy comments data frame\n",
        "comm_sens = comments.copy()\n",
        "\n",
        "# Wherever there is an empty string in 'program' replace it with the value in 'hostProgramName'\n",
        "comm_sens['program'] = np.where(comm_sens['program'] == '', comm_sens['hostProgramName'], comm_sens['program'])\n",
        "\n",
        "# Select columns\n",
        "comm_sens = comm_sens[['id', 'review_body', 'school', 'overallScore', 'overall', 'curriculum', 'jobSupport']]\n",
        "\n",
        "# Clean 'review body' from punctuation, 'Read More/Less' + make it lower case\n",
        "comm_sens['review_body'] = comm_sens['review_body'].str.replace('Read Less', '')\n",
        "comm_sens['review_body'] = comm_sens['review_body'].str.replace('Read More', '')\n",
        "comm_sens['review_body'] = comm_sens['review_body'].str.lower()\n",
        "comm_sens['review_body'] = comm_sens['review_body'].str.replace(r'(?:[^\\w\\s]|_)+', ' ', regex = True).str.strip()\n",
        "\n",
        "comm_sens.head()"
      ]
    },
    {
      "cell_type": "code",
      "execution_count": null,
      "metadata": {},
      "outputs": [],
      "source": [
        "# Exclude words from 'review_body'\n",
        "\n",
        "words = 'the be to of and a in that have i it for not on with he as you do at this but his by from they we say her she or an will my one all would there their so up out if about who get which go me when make can like time no just him take into year your some could them see other than then now look only come its also back after use how our first way even new because any these give day us is are'\n",
        "\n",
        "bag_of_words = words.split()\n",
        "\n",
        "def word_check(text):\n",
        "   result = []\n",
        "   words_in_text = text.split()\n",
        "   for word in words_in_text:\n",
        "      if (word not in bag_of_words) & (word.isdigit() == False):\n",
        "         result.append(word)\n",
        "   return result\n",
        "\n",
        "comm_sens['review_body'] = comm_sens['review_body'].apply(word_check)\n",
        "\n",
        "comm_sens.head(1)"
      ]
    },
    {
      "cell_type": "code",
      "execution_count": null,
      "metadata": {},
      "outputs": [],
      "source": [
        "# Count remaining words in 'review_body'\n",
        "\n",
        "word_dict = {}\n",
        "\n",
        "def word_count(word_list):\n",
        "   for word in word_list:\n",
        "      if word not in word_dict.keys():\n",
        "         word_dict[word] = 1\n",
        "      else:\n",
        "         word_dict[word] += 1\n",
        "\n",
        "# Select ironhack reviews\n",
        "comm_sens[comm_sens['school'] == 'ironhack']['review_body'].apply(word_count)\n",
        "\n",
        "# Create word count data frame\n",
        "ironhack_wm = pd.DataFrame.from_dict(word_dict, orient = 'index')\n",
        "\n",
        "### Export word-count data for SENSITIVITY ANALYSIS ###\n",
        "\n",
        "# ironhack_wm = ironhack_wm.to_excel(r'c:\\Users\\Senimtra\\Desktop\\ironhack_wm.xlsx')"
      ]
    },
    {
      "cell_type": "markdown",
      "metadata": {},
      "source": [
        "## Database"
      ]
    },
    {
      "cell_type": "markdown",
      "metadata": {},
      "source": [
        "##### Create database"
      ]
    },
    {
      "cell_type": "code",
      "execution_count": null,
      "metadata": {},
      "outputs": [],
      "source": [
        "### ESTABLISH MySQL CONNECTION ###\n",
        "\n",
        "saved_password = getpass.getpass()\n",
        "cnx = mysql.connector.connect(user = 'root', password = saved_password, host = 'localhost')\n",
        "cursor = cnx.cursor()\n",
        "\n",
        "print('MySQL connection established:', cnx.is_connected())"
      ]
    },
    {
      "cell_type": "code",
      "execution_count": null,
      "metadata": {},
      "outputs": [],
      "source": [
        "### CREATE DATABASE ###\n",
        "\n",
        "create_db = ('''\n",
        "\n",
        "-- ### Create database ### --\n",
        "CREATE DATABASE IF NOT EXISTS db_sql_project;\n",
        "USE db_sql_project;\n",
        "\n",
        "-- ### Create table 'school' ### --\n",
        "CREATE TABLE IF NOT EXISTS school (\n",
        "  id_school INT AUTO_INCREMENT,\n",
        "  school VARCHAR(45) NOT NULL,\n",
        "  logourl VARCHAR(200),\n",
        "  description TEXT,\n",
        "  website VARCHAR(200),\n",
        "  PRIMARY KEY (id_school));\n",
        "\n",
        "-- ### Create table 'course' ### --\n",
        "CREATE TABLE IF NOT EXISTS course (\n",
        "  id_course INT AUTO_INCREMENT,\n",
        "  id_school INT NOT NULL,\n",
        "  course VARCHAR(100),\n",
        "  PRIMARY KEY (id_course),\n",
        "  FOREIGN KEY (id_school) REFERENCES school(id_school));\n",
        "\n",
        "-- ### Create table 'badge' ### --\n",
        "CREATE TABLE IF NOT EXISTS badge (\n",
        "  id_badge INT AUTO_INCREMENT,\n",
        "  id_school INT NOT NULL,\n",
        "  description VARCHAR(100),\n",
        "  keyword VARCHAR(100),\n",
        "  name VARCHAR(45),\n",
        "  PRIMARY KEY (id_badge),\n",
        "  FOREIGN KEY (id_school) REFERENCES school(id_school));\n",
        "\n",
        "-- ### Create table 'city' ### --\n",
        "CREATE TABLE IF NOT EXISTS city (\n",
        "  id_city INT AUTO_INCREMENT,\n",
        "  city_name VARCHAR(45) NOT NULL,\n",
        "  city_keyword VARCHAR(20),\n",
        "  PRIMARY KEY (id_city));\n",
        "\n",
        "-- ### Create table 'country' ### --\n",
        "CREATE TABLE IF NOT EXISTS country (\n",
        "  id_country INT AUTO_INCREMENT,\n",
        "  country_name VARCHAR(45) NOT NULL,\n",
        "  country_abbrev VARCHAR(6),\n",
        "  PRIMARY KEY (id_country));\n",
        "\n",
        "-- ### Create table 'state' ### --\n",
        "CREATE TABLE IF NOT EXISTS state (\n",
        "  id_state INT AUTO_INCREMENT,\n",
        "  state_name VARCHAR(45),\n",
        "  state_abbrev VARCHAR(6),\n",
        "  state_keyword VARCHAR(45),\n",
        "  PRIMARY KEY (id_state));\n",
        "\n",
        "-- ### Create table 'location' ### --\n",
        "CREATE TABLE IF NOT EXISTS location (\n",
        "  id_location INT AUTO_INCREMENT,\n",
        "  id_school INT NOT NULL,\n",
        "  id_city INT NOT NULL,\n",
        "  id_country INT NOT NULL,\n",
        "  id_state INT NOT NULL,\n",
        "  description VARCHAR(45),\n",
        "  PRIMARY KEY (id_location),\n",
        "  FOREIGN KEY (id_school) REFERENCES school(id_school),\n",
        "  FOREIGN KEY (id_city) REFERENCES city(id_city),\n",
        "  FOREIGN KEY (id_country) REFERENCES country(id_country),\n",
        "  FOREIGN KEY (id_state) REFERENCES state(id_state));\n",
        "\n",
        "-- ### Create table 'comment' ### --\n",
        "CREATE TABLE IF NOT EXISTS comment (\n",
        "  id_comment INT AUTO_INCREMENT,\n",
        "  id_school INT NOT NULL,\n",
        "  id_course INT NOT NULL,\n",
        "  name VARCHAR(45),\n",
        "  anonymous VARCHAR(5),\n",
        "  graduating_year INT,\n",
        "  is_alumni VARCHAR(5),\n",
        "  created_at DATE,\n",
        "  query_date DATE,\n",
        "  overall_score VARCHAR(3),\n",
        "  overall VARCHAR(3),\n",
        "  curriculum VARCHAR(3),\n",
        "  job_support VARCHAR(3),\n",
        "  review_body TEXT,\n",
        "  PRIMARY KEY (id_comment),\n",
        "  FOREIGN KEY (id_school) REFERENCES school(id_school),\n",
        "  FOREIGN KEY (id_course) REFERENCES course(id_course));\n",
        "\n",
        "''')\n",
        "\n",
        "cursor.execute(create_db)"
      ]
    },
    {
      "cell_type": "markdown",
      "metadata": {},
      "source": [
        "##### Prepare data for database insertion"
      ]
    },
    {
      "cell_type": "code",
      "execution_count": null,
      "metadata": {},
      "outputs": [],
      "source": [
        "### SCHOOLS Data cleaning ###\n",
        "\n",
        "schools = schools[['school', 'LogoUrl', 'description', 'website']].copy()\n",
        "schools['description'] = schools['description'].str.replace(r'(?<=<).*?(?=>)', '', regex = True)\n",
        "schools['description'] = schools['description'].str.replace('<>', '', regex = True)\n",
        "schools['description'] = schools['description'].str.replace('Read Less|Read More', '', regex = True)\n",
        "schools.reset_index(inplace = True, drop = True)\n",
        "schools.index += 1\n",
        "\n",
        "schools.head(2)"
      ]
    },
    {
      "cell_type": "code",
      "execution_count": null,
      "metadata": {},
      "outputs": [],
      "source": [
        "### BADGES Data cleaning ###\n",
        "\n",
        "badges = badges[['description', 'keyword', 'name', 'school']].copy()\n",
        "schools['school_id'] = schools.index\n",
        "badges = badges.merge(schools[['school', 'school_id']], on = ['school'])\n",
        "badges.drop('school', inplace = True, axis = 1)\n",
        "badges['description'] = badges['description'].str.replace(r'(?<=<).*?(?=>)', '', regex = True)\n",
        "badges['description'] = badges['description'].str.replace('<>', '', regex = True)\n",
        "badges.reset_index(inplace = True, drop = True)\n",
        "badges.index += 1\n",
        "\n",
        "badges.head(3)"
      ]
    },
    {
      "cell_type": "code",
      "execution_count": null,
      "metadata": {},
      "outputs": [],
      "source": [
        "### COURSES Data cleaning ###\n",
        "\n",
        "courses = courses[['courses', 'school']].copy()\n",
        "courses = courses.merge(schools[['school', 'school_id']], on = ['school'])\n",
        "courses.drop(['school'], axis = 1, inplace = True)\n",
        "courses.index += 1\n",
        "\n",
        "courses.head(3)"
      ]
    },
    {
      "cell_type": "code",
      "execution_count": null,
      "metadata": {},
      "outputs": [],
      "source": [
        "### COMMENTS Data cleaning ###\n",
        "\n",
        "# Combine course information and remove unidentifiable rows\n",
        "comments['program'] = np.where(comments['program'].isna() == True, comments['hostProgramName'], comments['program'])\n",
        "comments = comments[comments['program'].isna() == False]\n",
        "comments = comments[comments['graduatingYear'].isna() == False]\n",
        "comments = comments[comments['program'].isin(courses['courses'])]\n",
        "\n",
        "# Drop unused columns\n",
        "comments.drop(['id', 'jobTitle', 'tagline', 'body', 'rawBody', 'user', 'comments', 'hostProgramName'], inplace = True, axis = 1)\n",
        "\n",
        "# Lookup foreign keys 'school_id' + 'course_id'\n",
        "comments = comments.merge(schools[['school', 'school_id']], on = ['school'])\n",
        "comments.drop('school', axis = 1, inplace = True)\n",
        "courses['check'] = courses['courses'] + courses['school_id'].astype(str)\n",
        "courses['course_id'] = courses.index\n",
        "comments['check'] = comments['program'] + comments['school_id'].astype(str)\n",
        "comments = comments.merge(courses[['check', 'course_id']], on = ['check'])\n",
        "comments.drop(['program', 'check'], axis = 1, inplace = True)\n",
        "\n",
        "# Reset index\n",
        "comments.reset_index(inplace = True, drop = True)\n",
        "comments.index += 1\n",
        "\n",
        "# Change column data types\n",
        "comments['graduatingYear'] = comments['graduatingYear'].astype('int')\n",
        "comments['overallScore'] = comments['overallScore'].astype('float64')\n",
        "comments['overall'] = comments['overall'].astype('float64')\n",
        "comments['curriculum'] = comments['curriculum'].astype('float64')\n",
        "comments['jobSupport'] = comments['jobSupport'].astype('float64')\n",
        "\n",
        "# Remove 'Read Less/Read More' + punctuation from string\n",
        "comments['review_body'] = comments['review_body'].str.replace('Read Less|Read More', '', regex = True)\n",
        "comments['review_body'] = comments['review_body'].str.replace(r'(?:[^\\w\\s]|_)+', ' ', regex = True).str.strip()\n",
        "\n",
        "comments.sample()"
      ]
    },
    {
      "cell_type": "code",
      "execution_count": null,
      "metadata": {},
      "outputs": [],
      "source": [
        "# COMMENTS - Format 'createdAt' as SQL data type 'DATE'\n",
        "\n",
        "def string_to_date(string):\n",
        "   result = string.split('/')\n",
        "   result[0] = result[0].rjust(2, '0')\n",
        "   result[1] = result[1].rjust(2, '0')\n",
        "   return '-'.join([result[2], result[0], result[1]])\n",
        "\n",
        "comments['createdAt'] = comments['createdAt'].apply(string_to_date)\n",
        "\n",
        "comments.sample()"
      ]
    },
    {
      "cell_type": "code",
      "execution_count": null,
      "metadata": {},
      "outputs": [],
      "source": [
        "### CITIES Data cleaning ###\n",
        "\n",
        "cities = locations[['city.name', 'city.keyword']].copy()\n",
        "cities.drop_duplicates(inplace = True)\n",
        "cities['city.name'].fillna('Online', inplace = True)\n",
        "cities.reset_index(inplace = True, drop = True)\n",
        "cities.index += 1\n",
        "\n",
        "cities.head(3)"
      ]
    },
    {
      "cell_type": "code",
      "execution_count": null,
      "metadata": {},
      "outputs": [],
      "source": [
        "### COUNTRIES Data cleaning ###\n",
        "\n",
        "countries = locations[['country.name', 'country.abbrev']].copy()\n",
        "countries.drop_duplicates(inplace = True)\n",
        "countries['country.name'].fillna('Online', inplace = True)\n",
        "countries.reset_index(inplace = True, drop = True)\n",
        "countries.index += 1\n",
        "\n",
        "countries.head(3)"
      ]
    },
    {
      "cell_type": "code",
      "execution_count": null,
      "metadata": {},
      "outputs": [],
      "source": [
        "### STATES Data cleaning ###\n",
        "\n",
        "states = locations[['state.name', 'state.abbrev', 'state.keyword']].copy()\n",
        "states.drop_duplicates(inplace = True)\n",
        "states['state.keyword'] = states['state.name'].str.lower().str.replace(' ', '-')\n",
        "states.reset_index(inplace = True, drop = True)\n",
        "states.index += 1\n",
        "\n",
        "states.head(3)"
      ]
    },
    {
      "cell_type": "code",
      "execution_count": null,
      "metadata": {},
      "outputs": [],
      "source": [
        "### LOCATIONS Data cleaning ###\n",
        "\n",
        "locations = locations[['school', 'city.name', 'country.name', 'state.name', 'description']].copy()\n",
        "locations.fillna({'city.name': 'Online', 'country.name': 'Online'}, inplace = True)\n",
        "\n",
        "# Look-up foreign keys 'school_id', 'city_id', 'country_id'\n",
        "locations = locations.merge(schools[['school', 'school_id']], on = ['school'])\n",
        "cities['city_id'] = cities.index\n",
        "locations = locations.merge(cities[['city.name', 'city_id']], on = ['city.name'])\n",
        "countries['country_id'] = countries.index\n",
        "locations = locations.merge(countries[['country.name', 'country_id']], on = ['country.name'])\n",
        "states['state_id'] = states.index\n",
        "locations = locations.merge(states[['state.name', 'state_id']], on = ['state.name'])\n",
        "locations.drop(['school', 'city.name', 'country.name', 'state.name'], axis = 1, inplace = True)\n",
        "\n",
        "locations.index += 1\n",
        "\n",
        "locations.head(3)"
      ]
    },
    {
      "cell_type": "markdown",
      "metadata": {},
      "source": [
        "##### Insert data frames into database"
      ]
    },
    {
      "cell_type": "code",
      "execution_count": null,
      "metadata": {},
      "outputs": [],
      "source": [
        "### Establish CONNECTION ###\n",
        "\n",
        "cnx = mysql.connector.connect(user = 'root', password = saved_password, host = 'localhost')\n",
        "cursor = cnx.cursor()"
      ]
    },
    {
      "cell_type": "code",
      "execution_count": null,
      "metadata": {},
      "outputs": [],
      "source": [
        "### Seed SCHOOL table ###\n",
        "\n",
        "for id_school, school, logourl, description, website in zip(schools.index, schools['school'], schools['LogoUrl'], schools['description'], schools['website']):\n",
        "    query = f'INSERT INTO db_sql_project.school (id_school, school, logourl, description, website) VALUES (\"{id_school}\", \"{school}\", \"{logourl}\", \"{description}\", \"{website}\");'\n",
        "    cursor.execute(query)"
      ]
    },
    {
      "cell_type": "code",
      "execution_count": null,
      "metadata": {},
      "outputs": [],
      "source": [
        "### Seed COURSE table ###\n",
        "\n",
        "for id_course, id_school, course in zip(courses.index, courses['school_id'], courses['courses']):\n",
        "    query = f'INSERT INTO db_sql_project.course (id_course, id_school, course) VALUES (\"{id_course}\", \"{id_school}\", \"{course}\");'\n",
        "    cursor.execute(query)"
      ]
    },
    {
      "cell_type": "code",
      "execution_count": null,
      "metadata": {},
      "outputs": [],
      "source": [
        "### Seed BADGE table ###\n",
        "\n",
        "for id_badge, id_school, description, keyword, name in zip(badges.index, badges['school_id'], badges['description'], badges['keyword'], badges['name']):\n",
        "    query = f'INSERT INTO db_sql_project.badge (id_badge, id_school, description, keyword, name) VALUES (\"{id_badge}\", \"{id_school}\", \"{description}\", \"{keyword}\", \"{name}\");'\n",
        "    cursor.execute(query)"
      ]
    },
    {
      "cell_type": "code",
      "execution_count": null,
      "metadata": {},
      "outputs": [],
      "source": [
        "### Seed CITY table ###\n",
        "\n",
        "for id_city, city_name, city_keyword in zip(cities.index, cities['city.name'], cities['city.keyword']):\n",
        "    query = f'INSERT INTO db_sql_project.city (id_city, city_name, city_keyword) VALUES (\"{id_city}\", \"{city_name}\", \"{city_keyword}\");'\n",
        "    cursor.execute(query)"
      ]
    },
    {
      "cell_type": "code",
      "execution_count": null,
      "metadata": {},
      "outputs": [],
      "source": [
        "### Seed COUNTRY table ###\n",
        "\n",
        "for id_country, country_name, country_abbrev in zip(countries.index, countries['country.name'], countries['country.abbrev']):\n",
        "    query = f'INSERT INTO db_sql_project.country (id_country, country_name, country_abbrev) VALUES (\"{id_country}\", \"{country_name}\", \"{country_abbrev}\");'\n",
        "    cursor.execute(query)"
      ]
    },
    {
      "cell_type": "code",
      "execution_count": null,
      "metadata": {},
      "outputs": [],
      "source": [
        "### Seed STATE table ###\n",
        "\n",
        "for id_state, state_name, state_abbrev, state_keyword in zip(states.index, states['state.name'], states['state.abbrev'], states['state.keyword']):\n",
        "    query = f'INSERT INTO db_sql_project.state (id_state, state_name, state_abbrev, state_keyword) VALUES (\"{id_state}\", \"{state_name}\", \"{state_abbrev}\", \"{state_keyword}\");'\n",
        "    cursor.execute(query)"
      ]
    },
    {
      "cell_type": "code",
      "execution_count": null,
      "metadata": {},
      "outputs": [],
      "source": [
        "### Seed LOCATION table ###\n",
        "\n",
        "for id_location, id_school, id_city, id_country, id_state, description in zip(locations.index, locations['school_id'], locations['city_id'], locations['country_id'], locations['state_id'], locations['description']):\n",
        "    query = f'INSERT INTO db_sql_project.location (id_location, id_school, id_city, id_country, id_state, description) VALUES (\"{id_location}\", \"{id_school}\", \"{id_city}\", \"{id_country}\", \"{id_state}\", \"{description}\");'\n",
        "    cursor.execute(query)"
      ]
    },
    {
      "cell_type": "code",
      "execution_count": null,
      "metadata": {},
      "outputs": [],
      "source": [
        "### Seed COMMENT table ###\n",
        "\n",
        "for id_comment, id_school, id_course, name, anonymous, graduating_year, is_alumni, created_at, query_date, overall_score, overall, curriculum, job_support, review_body in zip(comments.index, comments['school_id'], comments['course_id'], comments['name'], comments['anonymous'], comments['graduatingYear'], comments['isAlumni'], comments['createdAt'], comments['queryDate'], comments['overallScore'], comments['overall'], comments['curriculum'], comments['jobSupport'], comments['review_body']):\n",
        "    query = f'INSERT INTO db_sql_project.comment (id_comment, id_school, id_course, name, anonymous, graduating_year, is_alumni, created_at, query_date, overall_score, overall, curriculum, job_support, review_body) VALUES (\"{id_comment}\", \"{id_school}\", \"{id_course}\", \"{name}\", \"{anonymous}\", \"{graduating_year}\", \"{is_alumni}\", \"{created_at}\", \"{query_date}\", \"{str(overall_score)}\", \"{str(overall)}\", \"{str(curriculum)}\", \"{str(job_support)}\", \"{review_body}\");'\n",
        "    cursor.execute(query)"
      ]
    },
    {
      "cell_type": "code",
      "execution_count": null,
      "metadata": {},
      "outputs": [],
      "source": [
        "### Close CONNECTION ###\n",
        "\n",
        "cnx.commit() # Commit changes\n",
        "cursor.close()\n",
        "cnx.close() # Close connection\n",
        "\n",
        "print('MySQL connection terminated:', cnx.is_connected() == False)"
      ]
    }
  ],
  "metadata": {
    "colab": {
      "collapsed_sections": [],
      "provenance": []
    },
    "kernelspec": {
      "display_name": "Python 3.9.12 ('base')",
      "language": "python",
      "name": "python3"
    },
    "language_info": {
      "codemirror_mode": {
        "name": "ipython",
        "version": 3
      },
      "file_extension": ".py",
      "mimetype": "text/x-python",
      "name": "python",
      "nbconvert_exporter": "python",
      "pygments_lexer": "ipython3",
      "version": "3.9.12"
    },
    "vscode": {
      "interpreter": {
        "hash": "3a677cc3a62f2d81855f233fae469a5f43f070d97a640d213221ee6c91be41b5"
      }
    }
  },
  "nbformat": 4,
  "nbformat_minor": 0
}
